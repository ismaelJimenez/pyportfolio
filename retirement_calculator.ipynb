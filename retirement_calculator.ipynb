{
 "cells": [
  {
   "cell_type": "code",
   "execution_count": 12,
   "metadata": {
    "collapsed": false
   },
   "outputs": [],
   "source": [
    "%matplotlib inline\n",
    "import pandas as pd\n",
    "import numpy as np"
   ]
  },
  {
   "cell_type": "markdown",
   "metadata": {},
   "source": [
    "\n",
    "# When can I retire?\n",
    "\n",
    "Compound interest is powerful but takes a long time. To retire in 5 or 10 years the most important number is not your return on investment. It's your savings rate. [Learn more](http://www.mrmoneymustache.com/2012/01/13/the-shockingly-simple-math-behind-early-retirement/)"
   ]
  },
  {
   "cell_type": "code",
   "execution_count": 13,
   "metadata": {
    "collapsed": true
   },
   "outputs": [],
   "source": [
    "# Inputs\n",
    "current_annual_income = 70000\n",
    "current_annual_savings = 47500\n",
    "current_portfolio_value = 100"
   ]
  },
  {
   "cell_type": "code",
   "execution_count": 14,
   "metadata": {
    "collapsed": true
   },
   "outputs": [],
   "source": [
    "annual_return_on_investment = 0.05\n",
    "withdrawal_rate = 0.04"
   ]
  },
  {
   "cell_type": "code",
   "execution_count": 15,
   "metadata": {
    "collapsed": false
   },
   "outputs": [
    {
     "name": "stdout",
     "output_type": "stream",
     "text": [
      "Current Savings Rate: 67.86% \n",
      "\n",
      "Current Annual Expenses: 22.500\n"
     ]
    }
   ],
   "source": [
    "import locale\n",
    "locale.setlocale(locale.LC_ALL, 'de_DE')\n",
    "\n",
    "current_savings_rate = current_annual_savings / current_annual_income * 100\n",
    "print(\"Current Savings Rate: \"+str(round(current_savings_rate,2))+\"% \\n\")\n",
    "\n",
    "current_annual_expenses = current_annual_income - current_annual_savings\n",
    "print(\"Current Annual Expenses: \"+locale.format(\"%.f\",current_annual_expenses,grouping=True))"
   ]
  },
  {
   "cell_type": "code",
   "execution_count": 16,
   "metadata": {
    "collapsed": false
   },
   "outputs": [],
   "source": [
    "from collections import OrderedDict\n",
    "roi_str = str(annual_return_on_investment*100)+'% ROI'\n",
    "df = pd.DataFrame({'Income': ['-'], 'Expenses':['-'], roi_str:['-'], 'Percent Of Expenses Covered By ROI':['-'], 'Change In Networth (Savings + ROI)':['-'], 'Networth':[locale.format(\"%.f\", current_portfolio_value, grouping=True)]})\n",
    "df = df[['Income', 'Expenses', str(annual_return_on_investment*100)+'% ROI', 'Percent Of Expenses Covered By ROI', 'Change In Networth (Savings + ROI)', 'Networth']]\n",
    "df.index.name = 'End of year'\n"
   ]
  },
  {
   "cell_type": "code",
   "execution_count": 17,
   "metadata": {
    "collapsed": false
   },
   "outputs": [
    {
     "data": {
      "text/html": [
       "<h1>You can retire in 9.2 years</h1>"
      ],
      "text/plain": [
       "<IPython.core.display.HTML object>"
      ]
     },
     "metadata": {},
     "output_type": "display_data"
    },
    {
     "data": {
      "text/html": [
       "<h2>With a savings rate of 67.86%</h2>"
      ],
      "text/plain": [
       "<IPython.core.display.HTML object>"
      ]
     },
     "metadata": {},
     "output_type": "display_data"
    },
    {
     "data": {
      "text/html": [
       "<div>\n",
       "<style scoped>\n",
       "    .dataframe tbody tr th:only-of-type {\n",
       "        vertical-align: middle;\n",
       "    }\n",
       "\n",
       "    .dataframe tbody tr th {\n",
       "        vertical-align: top;\n",
       "    }\n",
       "\n",
       "    .dataframe thead th {\n",
       "        text-align: right;\n",
       "    }\n",
       "</style>\n",
       "<table border=\"1\" class=\"dataframe\">\n",
       "  <thead>\n",
       "    <tr style=\"text-align: right;\">\n",
       "      <th></th>\n",
       "      <th>Income</th>\n",
       "      <th>Expenses</th>\n",
       "      <th>5.0% ROI</th>\n",
       "      <th>Percent Of Expenses Covered By ROI</th>\n",
       "      <th>Change In Networth (Savings + ROI)</th>\n",
       "      <th>Networth</th>\n",
       "    </tr>\n",
       "  </thead>\n",
       "  <tbody>\n",
       "    <tr>\n",
       "      <th>0</th>\n",
       "      <td>-</td>\n",
       "      <td>-</td>\n",
       "      <td>-</td>\n",
       "      <td>-</td>\n",
       "      <td>-</td>\n",
       "      <td>100</td>\n",
       "    </tr>\n",
       "    <tr>\n",
       "      <th>1</th>\n",
       "      <td>70.000</td>\n",
       "      <td>22.500</td>\n",
       "      <td>1.192</td>\n",
       "      <td>5.3%</td>\n",
       "      <td>48.609</td>\n",
       "      <td>48.709</td>\n",
       "    </tr>\n",
       "    <tr>\n",
       "      <th>2</th>\n",
       "      <td>70.000</td>\n",
       "      <td>22.500</td>\n",
       "      <td>3.623</td>\n",
       "      <td>16.1%</td>\n",
       "      <td>51.096</td>\n",
       "      <td>99.805</td>\n",
       "    </tr>\n",
       "    <tr>\n",
       "      <th>3</th>\n",
       "      <td>70.000</td>\n",
       "      <td>22.500</td>\n",
       "      <td>6.178</td>\n",
       "      <td>27.46%</td>\n",
       "      <td>53.710</td>\n",
       "      <td>153.515</td>\n",
       "    </tr>\n",
       "    <tr>\n",
       "      <th>4</th>\n",
       "      <td>70.000</td>\n",
       "      <td>22.500</td>\n",
       "      <td>8.863</td>\n",
       "      <td>39.39%</td>\n",
       "      <td>56.458</td>\n",
       "      <td>209.973</td>\n",
       "    </tr>\n",
       "    <tr>\n",
       "      <th>5</th>\n",
       "      <td>70.000</td>\n",
       "      <td>22.500</td>\n",
       "      <td>11.686</td>\n",
       "      <td>51.94%</td>\n",
       "      <td>59.346</td>\n",
       "      <td>269.319</td>\n",
       "    </tr>\n",
       "    <tr>\n",
       "      <th>6</th>\n",
       "      <td>70.000</td>\n",
       "      <td>22.500</td>\n",
       "      <td>14.653</td>\n",
       "      <td>65.13%</td>\n",
       "      <td>62.383</td>\n",
       "      <td>331.702</td>\n",
       "    </tr>\n",
       "    <tr>\n",
       "      <th>7</th>\n",
       "      <td>70.000</td>\n",
       "      <td>22.500</td>\n",
       "      <td>17.773</td>\n",
       "      <td>78.99%</td>\n",
       "      <td>65.574</td>\n",
       "      <td>397.276</td>\n",
       "    </tr>\n",
       "    <tr>\n",
       "      <th>8</th>\n",
       "      <td>70.000</td>\n",
       "      <td>22.500</td>\n",
       "      <td>21.051</td>\n",
       "      <td>93.56%</td>\n",
       "      <td>68.929</td>\n",
       "      <td>466.205</td>\n",
       "    </tr>\n",
       "    <tr>\n",
       "      <th>9</th>\n",
       "      <td>70.000</td>\n",
       "      <td>22.500</td>\n",
       "      <td>24.498</td>\n",
       "      <td>108.88%</td>\n",
       "      <td>72.456</td>\n",
       "      <td>538.661</td>\n",
       "    </tr>\n",
       "    <tr>\n",
       "      <th>10</th>\n",
       "      <td>70.000</td>\n",
       "      <td>22.500</td>\n",
       "      <td>28.121</td>\n",
       "      <td>124.98%</td>\n",
       "      <td>76.163</td>\n",
       "      <td>614.824</td>\n",
       "    </tr>\n",
       "  </tbody>\n",
       "</table>\n",
       "</div>"
      ],
      "text/plain": [
       "    Income Expenses 5.0% ROI Percent Of Expenses Covered By ROI  \\\n",
       "0        -        -        -                                  -   \n",
       "1   70.000   22.500    1.192                               5.3%   \n",
       "2   70.000   22.500    3.623                              16.1%   \n",
       "3   70.000   22.500    6.178                             27.46%   \n",
       "4   70.000   22.500    8.863                             39.39%   \n",
       "5   70.000   22.500   11.686                             51.94%   \n",
       "6   70.000   22.500   14.653                             65.13%   \n",
       "7   70.000   22.500   17.773                             78.99%   \n",
       "8   70.000   22.500   21.051                             93.56%   \n",
       "9   70.000   22.500   24.498                            108.88%   \n",
       "10  70.000   22.500   28.121                            124.98%   \n",
       "\n",
       "   Change In Networth (Savings + ROI) Networth  \n",
       "0                                   -      100  \n",
       "1                              48.609   48.709  \n",
       "2                              51.096   99.805  \n",
       "3                              53.710  153.515  \n",
       "4                              56.458  209.973  \n",
       "5                              59.346  269.319  \n",
       "6                              62.383  331.702  \n",
       "7                              65.574  397.276  \n",
       "8                              68.929  466.205  \n",
       "9                              72.456  538.661  \n",
       "10                             76.163  614.824  "
      ]
     },
     "execution_count": 17,
     "metadata": {},
     "output_type": "execute_result"
    }
   ],
   "source": [
    "import numpy as np\n",
    "from IPython.core.display import display, HTML\n",
    "year_roi = 0\n",
    "year_prior_portfolio = current_portfolio_value\n",
    "year_index = 1\n",
    "\n",
    "def calculate_year_to_retirement(rate):\n",
    "    retired = False\n",
    "    month_index = 1\n",
    "    while not retired:\n",
    "        fv = np.fv(annual_return_on_investment/12, month_index*1, -current_annual_income*(rate/100)/12, -current_portfolio_value)\n",
    "        if fv > (current_annual_income*1.2*(1-rate/100))/annual_return_on_investment:\n",
    "            retired = True\n",
    "        month_index += 1\n",
    "    return round(month_index/12,1)\n",
    "\n",
    "year_index = 1\n",
    "while year_roi < current_annual_expenses*1.2:\n",
    "    year_roi = (current_annual_savings/2+year_prior_portfolio)*annual_return_on_investment\n",
    "    year_networth = np.fv(annual_return_on_investment/12, year_index*12, -current_annual_income*(current_savings_rate/100)/12, -current_portfolio_value)\n",
    "    year_index += 1\n",
    "    \n",
    "    df = df.append({'Income': locale.format(\"%.f\", current_annual_income, grouping=True), 'Expenses':locale.format(\"%.f\", current_annual_expenses, grouping=True), roi_str:locale.format(\"%.f\", year_roi, grouping=True), 'Percent Of Expenses Covered By ROI':str(round(year_roi/current_annual_expenses*100, 2))+'%', 'Change In Networth (Savings + ROI)':locale.format(\"%.f\", year_networth-year_prior_portfolio, grouping=True), 'Networth':locale.format(\"%.f\", year_networth, grouping=True)}, ignore_index=True)\n",
    "    year_prior_portfolio = year_networth\n",
    "    \n",
    "display(HTML('<h1>You can retire in '+str(calculate_year_to_retirement(current_savings_rate))+' years</h1>'))\n",
    "display(HTML('<h2>With a savings rate of '+str(round(current_savings_rate,2))+'%</h2>'))\n",
    "df"
   ]
  },
  {
   "cell_type": "code",
   "execution_count": 18,
   "metadata": {
    "collapsed": false
   },
   "outputs": [
    {
     "data": {
      "image/png": "[encoded data removed]",
      "text/plain": [
       "<Figure size 1440x720 with 1 Axes>"
      ]
     },
     "metadata": {},
     "output_type": "display_data"
    },
    {
     "name": "stdout",
     "output_type": "stream",
     "text": [
      "*Avg Household Savings Rates (2016) Sources: OECD, IMF\n"
     ]
    }
   ],
   "source": [
    "from matplotlib.ticker import FuncFormatter\n",
    "import matplotlib.pyplot as plt\n",
    "import numpy as np\n",
    "\n",
    "rate_increment = np.arange(0, 102, 2)\n",
    "x = np.arange(len(rate_increment))\n",
    "years_to_retirement = []\n",
    "\n",
    "for rate in rate_increment:\n",
    "    years_to_retirement.append(calculate_year_to_retirement(rate))\n",
    "    \n",
    "fig, ax = plt.subplots(figsize=(20, 10))\n",
    "ax.set_xlabel('Savings rate')\n",
    "ax.set_ylabel('Years to retirement')\n",
    "barlist = plt.bar(x, years_to_retirement)\n",
    "\n",
    "plt.xticks(x, rate_increment)\n",
    "\n",
    "ax.text(0, years_to_retirement[0]/4, 'Spain (1.75%)*', color='black', fontweight='bold', rotation=90)\n",
    "ax.text(2, years_to_retirement[0]/4, 'United States (5%)*', color='black', fontweight='bold', rotation=90)\n",
    "ax.text(4, years_to_retirement[0]/4, 'Germany (9.7%)*', color='black', fontweight='bold', rotation=90)\n",
    "ax.text(9, years_to_retirement[0]/4, 'Switzerland (18.8%)', color='black', fontweight='bold', rotation=90)\n",
    "\n",
    "barlist[round(current_savings_rate/2)].set_color('g')\n",
    "ax.text(round(current_savings_rate/2), years_to_retirement[0]/4, 'YOUR SAVINGS RATE', color='black', fontweight='bold', rotation=90)\n",
    "\n",
    "plt.show()\n",
    "print('*Avg Household Savings Rates (2016) Sources: OECD, IMF')"
   ]
  },
  {
   "cell_type": "code",
   "execution_count": null,
   "metadata": {
    "collapsed": true
   },
   "outputs": [],
   "source": []
  }
 ],
 "metadata": {
  "kernelspec": {
   "display_name": "Python 3",
   "language": "python",
   "name": "python3"
  },
  "language_info": {
   "codemirror_mode": {
    "name": "ipython",
    "version": 3
   },
   "file_extension": ".py",
   "mimetype": "text/x-python",
   "name": "python",
   "nbconvert_exporter": "python",
   "pygments_lexer": "ipython3",
   "version": "3.5.3"
  }
 },
 "nbformat": 4,
 "nbformat_minor": 0
}
